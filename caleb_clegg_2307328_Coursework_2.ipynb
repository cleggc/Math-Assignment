{
 "cells": [
  {
   "attachments": {},
   "cell_type": "markdown",
   "metadata": {},
   "source": [
    "Import packages "
   ]
  },
  {
   "cell_type": "code",
   "execution_count": 1,
   "metadata": {},
   "outputs": [],
   "source": [
    "import pandas as pd\n",
    "import numpy as np\n",
    "from sklearn.linear_model import LinearRegression\n",
    "from sklearn.metrics import mean_squared_error as mse\n",
    "from sklearn.metrics.pairwise import euclidean_distances\n",
    "from scipy.linalg import eigh\n",
    "from scipy.spatial import distance"
   ]
  },
  {
   "attachments": {},
   "cell_type": "markdown",
   "metadata": {},
   "source": [
    "Read fish csv"
   ]
  },
  {
   "cell_type": "code",
   "execution_count": 2,
   "metadata": {},
   "outputs": [],
   "source": [
    "fish_df = pd.read_csv('fish_data.csv')\n"
   ]
  },
  {
   "attachments": {},
   "cell_type": "markdown",
   "metadata": {},
   "source": [
    "Q5(a)"
   ]
  },
  {
   "attachments": {},
   "cell_type": "markdown",
   "metadata": {},
   "source": [
    "Train test split "
   ]
  },
  {
   "cell_type": "code",
   "execution_count": 3,
   "metadata": {},
   "outputs": [],
   "source": [
    "X_train = fish_df.iloc[:60, 1:3]\n",
    "y_train = fish_df.iloc[:60, -1]\n",
    "X_test = fish_df.iloc[60:, 1:3]\n",
    "y_test = fish_df.iloc[60:, -1]\n"
   ]
  },
  {
   "cell_type": "markdown",
   "metadata": {},
   "source": [
    "Fit a linear regression model to the training data"
   ]
  },
  {
   "cell_type": "code",
   "execution_count": 4,
   "metadata": {},
   "outputs": [],
   "source": [
    "reg = LinearRegression().fit(X_train, y_train)"
   ]
  },
  {
   "attachments": {},
   "cell_type": "markdown",
   "metadata": {},
   "source": [
    "Extract the coefficients of the linear regression model"
   ]
  },
  {
   "cell_type": "code",
   "execution_count": 5,
   "metadata": {},
   "outputs": [],
   "source": [
    "b0 = reg.intercept_ # Y intercept\n",
    "b1, b2 = reg.coef_ #coefficiants of x1,x2"
   ]
  },
  {
   "attachments": {},
   "cell_type": "markdown",
   "metadata": {},
   "source": [
    "Compute the regression function with the computed parameters (Yi = B0 + B1X1 + B2X2)"
   ]
  },
  {
   "cell_type": "code",
   "execution_count": 6,
   "metadata": {},
   "outputs": [],
   "source": [
    "y_train_pred = b0 + b1*X_train.iloc[:, 0] + b2*X_train.iloc[:, 1] "
   ]
  },
  {
   "attachments": {},
   "cell_type": "markdown",
   "metadata": {},
   "source": [
    "Compute the empirical risk Rempf/mse for the linear regression model"
   ]
  },
  {
   "cell_type": "code",
   "execution_count": 7,
   "metadata": {},
   "outputs": [],
   "source": [
    "Rempf = ((y_train_pred - y_train)**2).mean()"
   ]
  },
  {
   "cell_type": "code",
   "execution_count": 8,
   "metadata": {},
   "outputs": [],
   "source": [
    "Rempf_sk = mse(y_train, y_train_pred)"
   ]
  },
  {
   "attachments": {},
   "cell_type": "markdown",
   "metadata": {},
   "source": [
    "Q5(a) = Regression function and the empirical risk"
   ]
  },
  {
   "cell_type": "code",
   "execution_count": 9,
   "metadata": {},
   "outputs": [
    {
     "name": "stdout",
     "output_type": "stream",
     "text": [
      "Regression function: y = 2988.86 + 22.53*x1 + -87.02*x2 \n",
      "Empirical risk Rempf: 1501627.68\n"
     ]
    }
   ],
   "source": [
    "\n",
    "print(\"Regression function: y = {:.2f} + {:.2f}*x1 + {:.2f}*x2 \".format(b0, b1, b2))\n",
    "print(\"Empirical risk Rempf: {:.2f}\".format(Rempf))"
   ]
  },
  {
   "attachments": {},
   "cell_type": "markdown",
   "metadata": {},
   "source": [
    "Q5(b)"
   ]
  },
  {
   "cell_type": "markdown",
   "metadata": {},
   "source": [
    "Given the feature map phi([x1 x2]) = [1 x1 x2 x1*x2] we nee to perform a transformation of each data point in x1 and x2 into a 4d feature vector [1 x1 x2 x1*x2]"
   ]
  },
  {
   "attachments": {},
   "cell_type": "markdown",
   "metadata": {},
   "source": [
    "This function goes through the 2d vector [x1 x2] to 4d vector [1 x1 x2 x1x2]"
   ]
  },
  {
   "cell_type": "code",
   "execution_count": 10,
   "metadata": {},
   "outputs": [],
   "source": [
    "phi_df = fish_df.filter(['Type of fish', 'Age of fish (days)', 'Tempreture (Celsius)', 'Length (cm)' ],axis=1)"
   ]
  },
  {
   "cell_type": "code",
   "execution_count": 11,
   "metadata": {},
   "outputs": [],
   "source": [
    "phi_df['Engineered feature'] = phi_df['Age of fish (days)']*phi_df['Tempreture (Celsius)']"
   ]
  },
  {
   "cell_type": "code",
   "execution_count": 12,
   "metadata": {},
   "outputs": [],
   "source": [
    "# Split the data into training and test sets\n",
    "phi_X_train = phi_df.iloc[:60, [1,2,4]]\n",
    "phi_y_train = phi_df.iloc[:60, [3]]\n",
    "phi_X_test = phi_df.iloc[60:, [1,2,4]]\n",
    "phi_y_test = phi_df.iloc[60:, [3]]"
   ]
  },
  {
   "attachments": {},
   "cell_type": "markdown",
   "metadata": {},
   "source": [
    "changing the dependant variable from a df to a series to work when fitting the model"
   ]
  },
  {
   "cell_type": "code",
   "execution_count": 13,
   "metadata": {},
   "outputs": [],
   "source": [
    "phi_y_train_ = phi_y_train.squeeze()\n",
    "phi_y_test_ = phi_y_test.squeeze()"
   ]
  },
  {
   "attachments": {},
   "cell_type": "markdown",
   "metadata": {},
   "source": [
    "fit model"
   ]
  },
  {
   "cell_type": "code",
   "execution_count": 14,
   "metadata": {},
   "outputs": [],
   "source": [
    "phi_reg = LinearRegression().fit(phi_X_train, phi_y_train_)"
   ]
  },
  {
   "attachments": {},
   "cell_type": "markdown",
   "metadata": {},
   "source": [
    "get the Y intercept and coefficiants "
   ]
  },
  {
   "cell_type": "code",
   "execution_count": 15,
   "metadata": {},
   "outputs": [],
   "source": [
    "v0 = phi_reg.intercept_\n",
    "v1, v2, v3 = phi_reg.coef_\n"
   ]
  },
  {
   "attachments": {},
   "cell_type": "markdown",
   "metadata": {},
   "source": [
    "Compute the regression function with the computed parameters (Yi = v0 + v1X1 + v2X2 + v3X3)"
   ]
  },
  {
   "cell_type": "code",
   "execution_count": 16,
   "metadata": {},
   "outputs": [],
   "source": [
    "phi_y_train_pred = v0 + v1*phi_X_train.iloc[:, 0] + v2*phi_X_train.iloc[:, 1] + v3*phi_X_train.iloc[:, 2]"
   ]
  },
  {
   "attachments": {},
   "cell_type": "markdown",
   "metadata": {},
   "source": [
    "Compute the empirical risk Rempf/mse for the linear regression model"
   ]
  },
  {
   "cell_type": "code",
   "execution_count": 17,
   "metadata": {},
   "outputs": [],
   "source": [
    "phi_Rempf = ((phi_y_train_pred - phi_y_train_)**2).mean()"
   ]
  },
  {
   "cell_type": "code",
   "execution_count": 18,
   "metadata": {},
   "outputs": [],
   "source": [
    "phi_Rempf_sk = mse(phi_y_train_, phi_y_train_pred)"
   ]
  },
  {
   "cell_type": "code",
   "execution_count": 19,
   "metadata": {},
   "outputs": [
    {
     "name": "stdout",
     "output_type": "stream",
     "text": [
      "Regression function: y = 1292.33 + 45.36*x1 + -26.33*x2 + -0.82*x3 \n",
      "Empirical risk Rempf: 1496226.22\n"
     ]
    }
   ],
   "source": [
    "print(\"Regression function: y = {:.2f} + {:.2f}*x1 + {:.2f}*x2 + {:.2f}*x3 \".format(v0, v1, v2, v3))\n",
    "print(\"Empirical risk Rempf: {:.2f}\".format(phi_Rempf))"
   ]
  },
  {
   "attachments": {},
   "cell_type": "markdown",
   "metadata": {},
   "source": [
    "Q5(c)"
   ]
  },
  {
   "attachments": {},
   "cell_type": "markdown",
   "metadata": {},
   "source": [
    "Test data "
   ]
  },
  {
   "cell_type": "code",
   "execution_count": 20,
   "metadata": {},
   "outputs": [],
   "source": [
    "y_prediction = reg.predict(X_test)\n",
    "test_Rempf = mse(y_test, y_prediction)"
   ]
  },
  {
   "cell_type": "code",
   "execution_count": 21,
   "metadata": {},
   "outputs": [],
   "source": [
    "phi_y_prediction = phi_reg.predict(phi_X_test)\n",
    "test_phi_Rempf = mse(phi_y_test_, phi_y_prediction)"
   ]
  },
  {
   "attachments": {},
   "cell_type": "markdown",
   "metadata": {},
   "source": [
    "Q5(d) Cannot verify if all the information is there, not done"
   ]
  },
  {
   "attachments": {},
   "cell_type": "markdown",
   "metadata": {},
   "source": [
    "MAP Maximum a Posteriori\n",
    "\n",
    "formula \n",
    "\n",
    "logp(θ|XY) = logp(Y|X,θ) + logp(θ) +  constant."
   ]
  },
  {
   "cell_type": "markdown",
   "metadata": {},
   "source": []
  },
  {
   "attachments": {},
   "cell_type": "markdown",
   "metadata": {},
   "source": [
    "Assumptions\n",
    "\n",
    "σ^2 = Rempf\n",
    "\n",
    "θa = b1 b2"
   ]
  },
  {
   "attachments": {},
   "cell_type": "markdown",
   "metadata": {},
   "source": [
    "                        \n",
    "\n",
    "\n",
    "\n",
    "\n",
    "\n",
    "\n",
    "\n",
    "\n",
    "\n",
    "\n",
    "                        "
   ]
  },
  {
   "cell_type": "markdown",
   "metadata": {},
   "source": [
    "                        \n",
    "\n",
    "\n",
    "\n",
    "\n",
    "\n",
    "\n",
    "\n",
    "\n",
    "\n",
    "\n",
    "                        "
   ]
  },
  {
   "cell_type": "markdown",
   "metadata": {},
   "source": [
    "                        \n",
    "\n",
    "\n",
    "\n",
    "\n",
    "\n",
    "\n",
    "\n",
    "\n",
    "\n",
    "\n",
    "                        "
   ]
  },
  {
   "cell_type": "markdown",
   "metadata": {},
   "source": [
    "                        \n",
    "\n",
    "\n",
    "\n",
    "\n",
    "\n",
    "\n",
    "\n",
    "\n",
    "\n",
    "\n",
    "                        "
   ]
  },
  {
   "attachments": {},
   "cell_type": "markdown",
   "metadata": {},
   "source": [
    "Q6(a)"
   ]
  },
  {
   "attachments": {},
   "cell_type": "markdown",
   "metadata": {},
   "source": [
    "i."
   ]
  },
  {
   "attachments": {},
   "cell_type": "markdown",
   "metadata": {},
   "source": [
    "For the 2nd 3rd and 4th row calculate the pairwise distances between all data points"
   ]
  },
  {
   "cell_type": "code",
   "execution_count": 22,
   "metadata": {},
   "outputs": [],
   "source": [
    "x = fish_df.iloc[:, 1:4]\n",
    "\n",
    "euc_distances = x.apply(lambda row: np.sqrt(((row - x)**2).sum(axis=1)), axis=1)"
   ]
  },
  {
   "attachments": {},
   "cell_type": "markdown",
   "metadata": {},
   "source": [
    "Find the pair with the maximum distance"
   ]
  },
  {
   "cell_type": "code",
   "execution_count": 23,
   "metadata": {},
   "outputs": [],
   "source": [
    "\n",
    "max_pair = np.unravel_index(np.argmax(euc_distances), euc_distances.shape)\n",
    "xa, xb = max_pair\n",
    "\n",
    "\n",
    "xa += 1\n",
    "xb += 1"
   ]
  },
  {
   "cell_type": "code",
   "execution_count": 24,
   "metadata": {},
   "outputs": [
    {
     "name": "stdout",
     "output_type": "stream",
     "text": [
      "Row 18 and Row 36 have a distance of 4181.50\n"
     ]
    }
   ],
   "source": [
    "print(\"Row {} and Row {} have a distance of {:.2f}\".format(xa, xb, euc_distances.loc[xa-1, xb-1]))"
   ]
  },
  {
   "cell_type": "code",
   "execution_count": 25,
   "metadata": {},
   "outputs": [],
   "source": [
    "filename = 'max_euclidean.csv'\n",
    "euc_distances.to_csv(filename, index=False)"
   ]
  },
  {
   "attachments": {},
   "cell_type": "markdown",
   "metadata": {},
   "source": [
    "ii."
   ]
  },
  {
   "attachments": {},
   "cell_type": "markdown",
   "metadata": {},
   "source": [
    "Calculate euc distances of every point from xa and xb"
   ]
  },
  {
   "cell_type": "code",
   "execution_count": 26,
   "metadata": {},
   "outputs": [],
   "source": [
    "dist_a = euclidean_distances(x.iloc[:60], x.iloc[[xa]])\n",
    "dist_b = euclidean_distances(x.iloc[:60], x.iloc[[xb]])"
   ]
  },
  {
   "attachments": {},
   "cell_type": "markdown",
   "metadata": {},
   "source": [
    "Classify data points into La and Lb"
   ]
  },
  {
   "cell_type": "code",
   "execution_count": 37,
   "metadata": {},
   "outputs": [],
   "source": [
    "La = [i for i in range(60) if dist_a[i] < dist_b[i]]\n",
    "Lb = [i for i in range(60) if dist_a[i] > dist_b[i]]"
   ]
  },
  {
   "attachments": {},
   "cell_type": "markdown",
   "metadata": {},
   "source": [
    "iii."
   ]
  },
  {
   "cell_type": "code",
   "execution_count": 28,
   "metadata": {},
   "outputs": [],
   "source": [
    "La_data = x.iloc[La]\n",
    "Lb_data = x.iloc[Lb]"
   ]
  },
  {
   "cell_type": "markdown",
   "metadata": {},
   "source": [
    "Compute empirical mean"
   ]
  },
  {
   "cell_type": "code",
   "execution_count": 29,
   "metadata": {},
   "outputs": [],
   "source": [
    "em_mean_a = np.mean(La_data, axis=0)\n",
    "em_mean_b = np.mean(Lb_data, axis=0)"
   ]
  },
  {
   "attachments": {},
   "cell_type": "markdown",
   "metadata": {},
   "source": [
    "Compute covariance "
   ]
  },
  {
   "cell_type": "code",
   "execution_count": 30,
   "metadata": {},
   "outputs": [],
   "source": [
    "cov_a = np.cov(La_data.T)\n",
    "cov_b = np.cov(Lb_data.T)"
   ]
  },
  {
   "cell_type": "code",
   "execution_count": 31,
   "metadata": {},
   "outputs": [
    {
     "name": "stdout",
     "output_type": "stream",
     "text": [
      "La, Emperical mean:\n",
      " Age of fish (days)        88.227273\n",
      "Tempreture (Celsius)      27.818182\n",
      "Length (cm)             2933.545455\n",
      "dtype: float64\n",
      "La, Emperical Covariance :\n",
      " [[ 1.77980761e+03 -2.29809725e+01  3.04002220e+04]\n",
      " [-2.29809725e+01  5.08245243e+00 -9.26363636e+02]\n",
      " [ 3.04002220e+04 -9.26363636e+02  1.95062351e+06]]\n",
      "Lb, Emperical mean:\n",
      " Age of fish (days)       48.2500\n",
      "Tempreture (Celsius)     28.2500\n",
      "Length (cm)             579.0625\n",
      "dtype: float64\n",
      "Lb, Emperical Covariance :\n",
      " [[ 4.78066667e+02 -6.66666667e-02  1.89166667e+01]\n",
      " [-6.66666667e-02  4.73333333e+00 -3.14166667e+01]\n",
      " [ 1.89166667e+01 -3.14166667e+01  3.93739583e+03]]\n"
     ]
    }
   ],
   "source": [
    "print(\"La, Emperical mean:\\n\", em_mean_a)\n",
    "print(\"La, Emperical Covariance :\\n\", cov_a)\n",
    "print(\"Lb, Emperical mean:\\n\", em_mean_b)\n",
    "print(\"Lb, Emperical Covariance :\\n\", cov_b)"
   ]
  },
  {
   "cell_type": "markdown",
   "metadata": {},
   "source": [
    "iv."
   ]
  },
  {
   "attachments": {},
   "cell_type": "markdown",
   "metadata": {},
   "source": [
    "Verification of positive definite emperical Cov_a and Cov_b"
   ]
  },
  {
   "cell_type": "code",
   "execution_count": 32,
   "metadata": {},
   "outputs": [],
   "source": [
    "eigenvals_a = eigh(cov_a, eigvals_only=True)\n",
    "eigenvals_b = eigh(cov_b, eigvals_only=True)\n"
   ]
  },
  {
   "cell_type": "code",
   "execution_count": 33,
   "metadata": {},
   "outputs": [
    {
     "data": {
      "text/plain": [
       "array([   4.48235752,  477.963251  , 3937.75022482])"
      ]
     },
     "execution_count": 33,
     "metadata": {},
     "output_type": "execute_result"
    }
   ],
   "source": [
    "eigenvals_b"
   ]
  },
  {
   "cell_type": "code",
   "execution_count": 34,
   "metadata": {},
   "outputs": [
    {
     "data": {
      "text/plain": [
       "array([   4.48235752,  477.963251  , 3937.75022482])"
      ]
     },
     "execution_count": 34,
     "metadata": {},
     "output_type": "execute_result"
    }
   ],
   "source": [
    "eigenvals_b"
   ]
  },
  {
   "attachments": {},
   "cell_type": "markdown",
   "metadata": {},
   "source": [
    "v. Not done"
   ]
  },
  {
   "attachments": {},
   "cell_type": "markdown",
   "metadata": {},
   "source": [
    "scipy.spatial.distance.mahalanobis(u, v, VI)"
   ]
  },
  {
   "cell_type": "code",
   "execution_count": 35,
   "metadata": {},
   "outputs": [],
   "source": [
    "cov_a_inv = np.linalg.inv(cov_a)\n",
    "cov_b_inv = np.linalg.inv(cov_b)"
   ]
  },
  {
   "cell_type": "code",
   "execution_count": 36,
   "metadata": {},
   "outputs": [
    {
     "ename": "SyntaxError",
     "evalue": "invalid syntax (2824883085.py, line 1)",
     "output_type": "error",
     "traceback": [
      "\u001b[1;36m  Cell \u001b[1;32mIn [36], line 1\u001b[1;36m\u001b[0m\n\u001b[1;33m    maha_a = distance.mahalanobis(La, ? ,cov_a_inv)\u001b[0m\n\u001b[1;37m                                      ^\u001b[0m\n\u001b[1;31mSyntaxError\u001b[0m\u001b[1;31m:\u001b[0m invalid syntax\n"
     ]
    }
   ],
   "source": [
    "maha_a = distance.mahalanobis(La, ? ,cov_a_inv)\n",
    "maha_b = distance.mahalanobis(Lb,? ,cov_b_inv )"
   ]
  },
  {
   "cell_type": "code",
   "execution_count": null,
   "metadata": {},
   "outputs": [],
   "source": [
    "maha_dist_a = np.array(maha_a)"
   ]
  },
  {
   "cell_type": "markdown",
   "metadata": {},
   "source": [
    "vi. Not Done"
   ]
  },
  {
   "cell_type": "markdown",
   "metadata": {},
   "source": [
    "Q6(b)"
   ]
  },
  {
   "attachments": {},
   "cell_type": "markdown",
   "metadata": {},
   "source": [
    "Logarithmic Regression, categorical dependant variable"
   ]
  },
  {
   "cell_type": "code",
   "execution_count": null,
   "metadata": {},
   "outputs": [],
   "source": [
    "b,  "
   ]
  },
  {
   "cell_type": "code",
   "execution_count": null,
   "metadata": {},
   "outputs": [],
   "source": [
    "#del m2_X_train\n",
    "#del m2_y_train\n",
    "#del m2_X_test \n",
    "#del m2_y_test \n",
    "#del b3\n",
    "#del v0\n",
    "#del b3"
   ]
  }
 ],
 "metadata": {
  "kernelspec": {
   "display_name": "Python 3",
   "language": "python",
   "name": "python3"
  },
  "language_info": {
   "codemirror_mode": {
    "name": "ipython",
    "version": 3
   },
   "file_extension": ".py",
   "mimetype": "text/x-python",
   "name": "python",
   "nbconvert_exporter": "python",
   "pygments_lexer": "ipython3",
   "version": "3.10.11"
  },
  "orig_nbformat": 4
 },
 "nbformat": 4,
 "nbformat_minor": 2
}
